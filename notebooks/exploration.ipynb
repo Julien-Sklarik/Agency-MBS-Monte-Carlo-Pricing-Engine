{
  "cells": [
    {
      "cell_type": "markdown",
      "metadata": {},
      "source": [
        "# Agency MBS pricing exploration\n",
        "\n",
        "This notebook shows how I inspect data, train simple termination models, and run a Monte Carlo price on an example pool.\n",
        "\n",
        "I keep the code modular and call into the package in `src/mbs_lab`. Plots are made with matplotlib and randomness is seeded for reproducibility.\n",
        "\n",
        "Run date 2025-09-28\n"
      ]
    },
    {
      "cell_type": "code",
      "execution_count": null,
      "metadata": {},
      "outputs": [],
      "source": [
        "import os, json, yaml\n",
        "import numpy as np\n",
        "import pandas as pd\n",
        "import matplotlib.pyplot as plt\n",
        "from pathlib import Path\n",
        "import importlib\n",
        "\n",
        "from src.mbs_lab import utils, models, rates, cashflow, engine\n",
        "\n",
        "utils.set_seed(42)\n",
        "cfg_path = 'configs/example_config.yaml'\n",
        "cfg = yaml.safe_load(open(cfg_path,'r'))\n",
        "csv_path = cfg['data']['csv_path']\n",
        "df = pd.read_csv(csv_path)\n",
        "df.head()"
      ]
    },
    {
      "cell_type": "markdown",
      "metadata": {},
      "source": [
        "## Quick data checks"
      ]
    },
    {
      "cell_type": "code",
      "execution_count": null,
      "metadata": {},
      "outputs": [],
      "source": [
        "df.describe(numeric_only=True).T"
      ]
    },
    {
      "cell_type": "code",
      "execution_count": null,
      "metadata": {},
      "outputs": [],
      "source": [
        "fig = plt.figure(figsize=(6,4))\n",
        "df['coupon_diff'].hist(bins=40)\n",
        "plt.title('Distribution of coupon_diff')\n",
        "plt.xlabel('coupon_diff')\n",
        "plt.ylabel('count')\n",
        "plt.show()"
      ]
    },
    {
      "cell_type": "markdown",
      "metadata": {},
      "source": [
        "## Train simple prepay and default models on the current csv"
      ]
    },
    {
      "cell_type": "code",
      "execution_count": null,
      "metadata": {},
      "outputs": [],
      "source": [
        "art = Path(cfg['artifacts_dir'])\n",
        "art.mkdir(exist_ok=True)\n",
        "res_pre = models.fit_binary_model(df.copy(), cfg['labels']['prepay'], str(art / 'prepay_model.joblib'))\n",
        "res_def = models.fit_binary_model(df.copy(), cfg['labels']['default'], str(art / 'default_model.joblib'))\n",
        "res_pre, res_def"
      ]
    },
    {
      "cell_type": "markdown",
      "metadata": {},
      "source": [
        "## ROC style sanity plot\n",
        "I score the in sample data for a quick curve. For hiring, I would normally hold out a time slice, but this keeps the notebook compact."
      ]
    },
    {
      "cell_type": "code",
      "execution_count": null,
      "metadata": {},
      "outputs": [],
      "source": [
        "from sklearn.metrics import roc_curve, auc\n",
        "from sklearn.model_selection import train_test_split\n",
        "\n",
        "X = df[models.CORE_FEATURES].values\n",
        "y_pre = df[cfg['labels']['prepay']].astype(int).values\n",
        "y_def = df[cfg['labels']['default']].astype(int).values\n",
        "\n",
        "pipe_pre = models.load_model(str(art / 'prepay_model.joblib'))\n",
        "pipe_def = models.load_model(str(art / 'default_model.joblib'))\n",
        "\n",
        "p_pre = pipe_pre.predict_proba(X)[:,1]\n",
        "p_def = pipe_def.predict_proba(X)[:,1]\n",
        "\n",
        "fpr_pre, tpr_pre, _ = roc_curve(y_pre, p_pre)\n",
        "fpr_def, tpr_def, _ = roc_curve(y_def, p_def)\n",
        "auc_pre = auc(fpr_pre, tpr_pre)\n",
        "auc_def = auc(fpr_def, tpr_def)\n",
        "\n",
        "fig = plt.figure(figsize=(6,4))\n",
        "plt.plot(fpr_pre, tpr_pre, label=f'prepay AUC {auc_pre:.3f}')\n",
        "plt.plot(fpr_def, tpr_def, label=f'default AUC {auc_def:.3f}')\n",
        "plt.plot([0,1],[0,1],'--')\n",
        "plt.xlabel('false positive rate')\n",
        "plt.ylabel('true positive rate')\n",
        "plt.title('ROC curves')\n",
        "plt.legend()\n",
        "plt.show()"
      ]
    },
    {
      "cell_type": "markdown",
      "metadata": {},
      "source": [
        "## Pricing demo on one pool"
      ]
    },
    {
      "cell_type": "code",
      "execution_count": null,
      "metadata": {},
      "outputs": [],
      "source": [
        "out = engine.price_one(cfg_path)\n",
        "out"
      ]
    },
    {
      "cell_type": "markdown",
      "metadata": {},
      "source": [
        "## Rate path snapshot"
      ]
    },
    {
      "cell_type": "code",
      "execution_count": null,
      "metadata": {},
      "outputs": [],
      "source": [
        "n_paths = cfg['rates']['n_paths']\n",
        "n_steps = cfg['rates']['n_steps']\n",
        "dt = cfg['rates']['dt']\n",
        "r0 = cfg['rates']['r0']\n",
        "a = cfg['rates']['a']\n",
        "sigma = cfg['rates']['sigma']\n",
        "theta = cfg['rates']['theta']\n",
        "r = rates.simulate_hull_white_paths(n_paths, n_steps, dt, a, sigma, r0, theta)\n",
        "fig = plt.figure(figsize=(6,4))\n",
        "for i in range(min(5, r.shape[0])):\n",
        "    plt.plot(r[i])\n",
        "plt.title('sample short rate paths')\n",
        "plt.xlabel('step')\n",
        "plt.ylabel('r')\n",
        "plt.show()"
      ]
    },
    {
      "cell_type": "markdown",
      "metadata": {},
      "source": [
        "## Cashflow profile for the synthetic pool"
      ]
    },
    {
      "cell_type": "code",
      "execution_count": null,
      "metadata": {},
      "outputs": [],
      "source": [
        "X = df[models.CORE_FEATURES].fillna(method='ffill').fillna(method='bfill').values\n",
        "pre = models.load_model(str(art / 'prepay_model.joblib'))\n",
        "de = models.load_model(str(art / 'default_model.joblib'))\n",
        "smm = models.smm_from_features(pre, X)\n",
        "dmm = models.default_prob_from_features(de, X)\n",
        "pool = cfg['pool']\n",
        "cf = cashflow.project_pool_cashflows(pool['upb'], pool['wac'], pool['maturity_months'], smm, dmm, pool['loss_severity'])\n",
        "fig = plt.figure(figsize=(6,4))\n",
        "plt.plot(cf['month'], cf['cash_to_investor'])\n",
        "plt.title('monthly cash to investor')\n",
        "plt.xlabel('month')\n",
        "plt.ylabel('cash')\n",
        "plt.show()\n",
        "cf.head()"
      ]
    }
  ],
  "metadata": {
    "kernelspec": {
      "display_name": "Python 3",
      "language": "python",
      "name": "python3"
    },
    "language_info": {
      "name": "python",
      "version": ""
    }
  },
  "nbformat": 4,
  "nbformat_minor": 5
}